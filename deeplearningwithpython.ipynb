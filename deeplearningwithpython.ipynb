{
  "nbformat": 4,
  "nbformat_minor": 0,
  "metadata": {
    "colab": {
      "name": "Copy of deeplearningwithpython.ipynb",
      "provenance": [],
      "collapsed_sections": [],
      "authorship_tag": "ABX9TyNHnwES6tLhu8i0tCOG61aD",
      "include_colab_link": true
    },
    "kernelspec": {
      "name": "python3",
      "display_name": "Python 3"
    }
  },
  "cells": [
    {
      "cell_type": "markdown",
      "metadata": {
        "id": "view-in-github",
        "colab_type": "text"
      },
      "source": [
        "<a href=\"https://colab.research.google.com/github/david-moravec/projects/blob/develop/deeplearningwithpython.ipynb\" target=\"_parent\"><img src=\"https://colab.research.google.com/assets/colab-badge.svg\" alt=\"Open In Colab\"/></a>"
      ]
    },
    {
      "cell_type": "code",
      "metadata": {
        "id": "XsQ9rnFQpPsX",
        "colab_type": "code",
        "colab": {}
      },
      "source": [
        "import tensorflow\n",
        "from tensorflow import keras\n",
        "from keras.datasets import imdb\n",
        "\n",
        "(train_data, train_labels), (test_data, test_labels) = imdb.load_data(num_words=10000)"
      ],
      "execution_count": 6,
      "outputs": []
    },
    {
      "cell_type": "code",
      "metadata": {
        "id": "BuOIT5R6Vbi9",
        "colab_type": "code",
        "colab": {}
      },
      "source": [
        "import numpy as np\n",
        "\n",
        "def vectorize_sequences(sequences, dimension=10000):\n",
        "  results = np.zeros((len(sequences), dimension))\n",
        "  for i, sequence in enumerate(sequences):\n",
        "    results[i, sequence] = 1.\n",
        "  return results\n",
        "\n",
        "x_train = vectorize_sequences(train_data)\n",
        "x_test = vectorize_sequences(test_data)\n",
        "\n",
        "y_train = np.asarray(train_labels).astype('float32')\n",
        "y_test = np.asarray(test_labels).astype('float32')"
      ],
      "execution_count": 8,
      "outputs": []
    },
    {
      "cell_type": "code",
      "metadata": {
        "id": "d671Ch7FTvT1",
        "colab_type": "code",
        "colab": {}
      },
      "source": [
        "from keras import models\n",
        "from keras import layers\n",
        "\n",
        "model = models.Sequential()\n",
        "model.add(layers.Dense(64, activation='relu', input_shape=(10000,)))\n",
        "model.add(layers.Dense(64, activation='relu'))\n",
        "model.add(layers.Dense(64, activation='relu'))\n",
        "model.add(layers.Dense(64, activation='relu'))\n",
        "model.add(layers.Dense(64, activation='relu'))\n",
        "model.add(layers.Dense(64, activation='relu'))\n",
        "model.add(layers.Dense(64, activation='relu'))\n",
        "model.add(layers.Dense(16, activation='relu'))\n",
        "model.add(layers.Dense(1, activation='sigmoid'))"
      ],
      "execution_count": 28,
      "outputs": []
    },
    {
      "cell_type": "code",
      "metadata": {
        "id": "NzN3ZmXbWb26",
        "colab_type": "code",
        "colab": {}
      },
      "source": [
        "model.compile(optimizer='rmsprop',\n",
        "              loss='binary_crossentropy',\n",
        "              metrics=['accuracy'])"
      ],
      "execution_count": 29,
      "outputs": []
    },
    {
      "cell_type": "code",
      "metadata": {
        "id": "IZzHVKigT2IV",
        "colab_type": "code",
        "colab": {
          "base_uri": "https://localhost:8080/",
          "height": 714
        },
        "outputId": "f878c014-b02a-4f3a-ae9f-8604e9593bab"
      },
      "source": [
        "x_val = x_train[:10000]\n",
        "partial_x_train = x_train[10000:]\n",
        "\n",
        "y_val = y_train[:10000]\n",
        "partial_y_train = y_train[10000:]\n",
        "history = model.fit(partial_x_train,\n",
        "                    partial_y_train,\n",
        "                    epochs=20,\n",
        "                    batch_size=512,\n",
        "                    validation_data=(x_val, y_val))"
      ],
      "execution_count": 30,
      "outputs": [
        {
          "output_type": "stream",
          "text": [
            "Train on 15000 samples, validate on 10000 samples\n",
            "Epoch 1/20\n",
            "15000/15000 [==============================] - 3s 210us/step - loss: 0.5556 - accuracy: 0.7395 - val_loss: 0.3179 - val_accuracy: 0.8742\n",
            "Epoch 2/20\n",
            "15000/15000 [==============================] - 3s 192us/step - loss: 0.2743 - accuracy: 0.8959 - val_loss: 0.3076 - val_accuracy: 0.8795\n",
            "Epoch 3/20\n",
            "15000/15000 [==============================] - 3s 189us/step - loss: 0.1946 - accuracy: 0.9279 - val_loss: 0.3651 - val_accuracy: 0.8685\n",
            "Epoch 4/20\n",
            "15000/15000 [==============================] - 3s 198us/step - loss: 0.1431 - accuracy: 0.9490 - val_loss: 0.4017 - val_accuracy: 0.8819\n",
            "Epoch 5/20\n",
            "15000/15000 [==============================] - 3s 194us/step - loss: 0.1172 - accuracy: 0.9580 - val_loss: 0.3403 - val_accuracy: 0.8865\n",
            "Epoch 6/20\n",
            "15000/15000 [==============================] - 3s 202us/step - loss: 0.0650 - accuracy: 0.9781 - val_loss: 0.4919 - val_accuracy: 0.8791\n",
            "Epoch 7/20\n",
            "15000/15000 [==============================] - 3s 192us/step - loss: 0.0855 - accuracy: 0.9808 - val_loss: 0.4017 - val_accuracy: 0.8813\n",
            "Epoch 8/20\n",
            "15000/15000 [==============================] - 3s 198us/step - loss: 0.0101 - accuracy: 0.9981 - val_loss: 0.6780 - val_accuracy: 0.8816\n",
            "Epoch 9/20\n",
            "15000/15000 [==============================] - 3s 203us/step - loss: 0.0020 - accuracy: 0.9994 - val_loss: 1.0018 - val_accuracy: 0.8797\n",
            "Epoch 10/20\n",
            "15000/15000 [==============================] - 3s 195us/step - loss: 0.1486 - accuracy: 0.9821 - val_loss: 0.6143 - val_accuracy: 0.8771\n",
            "Epoch 11/20\n",
            "15000/15000 [==============================] - 3s 194us/step - loss: 0.0016 - accuracy: 1.0000 - val_loss: 0.7692 - val_accuracy: 0.8774\n",
            "Epoch 12/20\n",
            "15000/15000 [==============================] - 3s 202us/step - loss: 4.0845e-04 - accuracy: 1.0000 - val_loss: 0.9625 - val_accuracy: 0.8787\n",
            "Epoch 13/20\n",
            "15000/15000 [==============================] - 3s 211us/step - loss: 8.2466e-05 - accuracy: 1.0000 - val_loss: 1.2842 - val_accuracy: 0.8787\n",
            "Epoch 14/20\n",
            "15000/15000 [==============================] - 3s 209us/step - loss: 7.9743e-06 - accuracy: 1.0000 - val_loss: 1.5862 - val_accuracy: 0.8764\n",
            "Epoch 15/20\n",
            "15000/15000 [==============================] - 3s 196us/step - loss: 1.2318e-06 - accuracy: 1.0000 - val_loss: 1.8202 - val_accuracy: 0.8794\n",
            "Epoch 16/20\n",
            "15000/15000 [==============================] - 3s 200us/step - loss: 2.5156e-07 - accuracy: 1.0000 - val_loss: 2.0037 - val_accuracy: 0.8778\n",
            "Epoch 17/20\n",
            "15000/15000 [==============================] - 3s 207us/step - loss: 6.1644e-08 - accuracy: 1.0000 - val_loss: 2.2031 - val_accuracy: 0.8790\n",
            "Epoch 18/20\n",
            "15000/15000 [==============================] - 3s 206us/step - loss: 1.5804e-08 - accuracy: 1.0000 - val_loss: 2.3558 - val_accuracy: 0.8777\n",
            "Epoch 19/20\n",
            "15000/15000 [==============================] - 3s 202us/step - loss: 5.5830e-09 - accuracy: 1.0000 - val_loss: 2.4676 - val_accuracy: 0.8791\n",
            "Epoch 20/20\n",
            "15000/15000 [==============================] - 3s 201us/step - loss: 2.6436e-09 - accuracy: 1.0000 - val_loss: 2.5480 - val_accuracy: 0.8789\n"
          ],
          "name": "stdout"
        }
      ]
    },
    {
      "cell_type": "code",
      "metadata": {
        "id": "O0tQyH4XUF9L",
        "colab_type": "code",
        "colab": {
          "base_uri": "https://localhost:8080/",
          "height": 448
        },
        "outputId": "81c712b1-9b6c-462d-bd4c-f47b496952dc"
      },
      "source": [
        "import matplotlib.pyplot as plt\n",
        "\n",
        "history_dict = history.history\n",
        "loss_values = history_dict['loss']\n",
        "val_loss_values = history_dict['val_loss']\n",
        "\n",
        "acc = history.history['accuracy']\n",
        "val_acc = history.history['val_accuracy']\n",
        "loss = history.history['loss']\n",
        "val_loss = history.history['val_loss']\n",
        "\n",
        "epochs = range(1, len(acc) + 1)\n",
        "\n",
        "plt.plot(epochs, loss_values, 'bo', label='Training loss')\n",
        "plt.plot(epochs, val_loss_values, 'b', label='Validation loss')\n",
        "plt.title('Training and validation loss')\n",
        "plt.xlabel('Epochs')\n",
        "plt.ylabel('Loss')\n",
        "plt.legend()\n",
        "\n",
        "plt.show()\n",
        "model.fit(x_train, y_train, epochs=4, batch_size=512)\n",
        "results = model.evaluate(x_test, y_test)"
      ],
      "execution_count": 31,
      "outputs": [
        {
          "output_type": "display_data",
          "data": {
            "image/png": "[encoded data removed]",
            "text/plain": [
              "<Figure size 432x288 with 1 Axes>"
            ]
          },
          "metadata": {
            "tags": [],
            "needs_background": "light"
          }
        },
        {
          "output_type": "stream",
          "text": [
            "Epoch 1/4\n",
            "25000/25000 [==============================] - 4s 148us/step - loss: 0.3646 - accuracy: 0.9392\n",
            "Epoch 2/4\n",
            "25000/25000 [==============================] - 4s 148us/step - loss: 0.1137 - accuracy: 0.9615\n",
            "Epoch 3/4\n",
            "25000/25000 [==============================] - 4s 151us/step - loss: 0.0522 - accuracy: 0.9831\n",
            "Epoch 4/4\n",
            "25000/25000 [==============================] - 4s 146us/step - loss: 0.0407 - accuracy: 0.9892\n",
            "25000/25000 [==============================] - 3s 125us/step\n"
          ],
          "name": "stdout"
        }
      ]
    },
    {
      "cell_type": "code",
      "metadata": {
        "id": "ew8eGfEVzrUp",
        "colab_type": "code",
        "colab": {
          "base_uri": "https://localhost:8080/",
          "height": 136
        },
        "outputId": "baee84ea-4ea7-44ad-f437-9a55a32b83ef"
      },
      "source": [
        "model.predict(x_test)"
      ],
      "execution_count": 32,
      "outputs": [
        {
          "output_type": "execute_result",
          "data": {
            "text/plain": [
              "array([[0.00989383],\n",
              "       [1.        ],\n",
              "       [0.9999987 ],\n",
              "       ...,\n",
              "       [0.02619296],\n",
              "       [0.00282794],\n",
              "       [0.92635787]], dtype=float32)"
            ]
          },
          "metadata": {
            "tags": []
          },
          "execution_count": 32
        }
      ]
    }
  ]
}